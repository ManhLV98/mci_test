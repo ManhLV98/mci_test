{
 "cells": [
  {
   "cell_type": "code",
   "execution_count": 11,
   "id": "e2c9cfd9",
   "metadata": {},
   "outputs": [],
   "source": [
    "import boto3\n",
    "import pandas as pd"
   ]
  },
  {
   "cell_type": "code",
   "execution_count": 26,
   "id": "3d44f30c",
   "metadata": {},
   "outputs": [
    {
     "ename": "NameError",
     "evalue": "name 'pd' is not defined",
     "output_type": "error",
     "traceback": [
      "\u001b[0;31m---------------------------------------------------------------------------\u001b[0m",
      "\u001b[0;31mNameError\u001b[0m                                 Traceback (most recent call last)",
      "Cell \u001b[0;32mIn[26], line 14\u001b[0m\n\u001b[1;32m     12\u001b[0m         prefix_df\u001b[38;5;241m.\u001b[39mappend(df)\n\u001b[1;32m     13\u001b[0m     \u001b[38;5;28;01mreturn\u001b[39;00m prefix_df\n\u001b[0;32m---> 14\u001b[0m \u001b[43mread_prefix_to_df\u001b[49m\u001b[43m(\u001b[49m\u001b[43mprefix\u001b[49m\u001b[43m,\u001b[49m\u001b[43ms3_resource\u001b[49m\u001b[43m,\u001b[49m\u001b[43mbucket_name\u001b[49m\u001b[43m)\u001b[49m\n",
      "Cell \u001b[0;32mIn[26], line 11\u001b[0m, in \u001b[0;36mread_prefix_to_df\u001b[0;34m(prefix, s3_resource, bucket_name)\u001b[0m\n\u001b[1;32m      9\u001b[0m     key \u001b[38;5;241m=\u001b[39m obj\u001b[38;5;241m.\u001b[39mkey\n\u001b[1;32m     10\u001b[0m     body \u001b[38;5;241m=\u001b[39m obj\u001b[38;5;241m.\u001b[39mget()[\u001b[38;5;124m'\u001b[39m\u001b[38;5;124mBody\u001b[39m\u001b[38;5;124m'\u001b[39m]\u001b[38;5;241m.\u001b[39mread()\n\u001b[0;32m---> 11\u001b[0m     df \u001b[38;5;241m=\u001b[39m \u001b[43mpd\u001b[49m\u001b[38;5;241m.\u001b[39mDataFrame(body)\n\u001b[1;32m     12\u001b[0m     prefix_df\u001b[38;5;241m.\u001b[39mappend(df)\n\u001b[1;32m     13\u001b[0m \u001b[38;5;28;01mreturn\u001b[39;00m prefix_df\n",
      "\u001b[0;31mNameError\u001b[0m: name 'pd' is not defined"
     ]
    }
   ],
   "source": [
    "s3_resource = boto3.resource('s3')\n",
    "prefix = 'song_data/A/A/'\n",
    "bucket_name = 'manhlv-test'\n",
    "def read_prefix_to_df(prefix,s3_resource,bucket_name):\n",
    "    bucket = s3_resource.Bucket(bucket_name)\n",
    "    prefix_objs = bucket.objects.filter(Prefix=prefix)\n",
    "    prefix_df = []\n",
    "    for obj in prefix_objs:\n",
    "        key = obj.key\n",
    "        body = obj.get()['Body'].read()\n",
    "        df = pd.DataFrame(body)\n",
    "        prefix_df.append(df)\n",
    "    return prefix_df\n",
    "read_prefix_to_df(prefix,s3_resource,bucket_name)"
   ]
  },
  {
   "cell_type": "code",
   "execution_count": 24,
   "id": "7029f8da",
   "metadata": {},
   "outputs": [
    {
     "name": "stdout",
     "output_type": "stream",
     "text": [
      "The S3 objects does not exist in the S3 bucket.\n",
      "An error occurred (NoSuchKey) when calling the GetObject operation: The specified key does not exist.\n"
     ]
    }
   ],
   "source": []
  },
  {
   "cell_type": "code",
   "execution_count": null,
   "id": "643dda43",
   "metadata": {},
   "outputs": [],
   "source": []
  }
 ],
 "metadata": {
  "kernelspec": {
   "display_name": "Python 3 (ipykernel)",
   "language": "python",
   "name": "python3"
  },
  "language_info": {
   "codemirror_mode": {
    "name": "ipython",
    "version": 3
   },
   "file_extension": ".py",
   "mimetype": "text/x-python",
   "name": "python",
   "nbconvert_exporter": "python",
   "pygments_lexer": "ipython3",
   "version": "3.8.10"
  }
 },
 "nbformat": 4,
 "nbformat_minor": 5
}
