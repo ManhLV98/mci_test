{
 "cells": [
  {
   "cell_type": "code",
   "execution_count": 1,
   "id": "e2c9cfd9",
   "metadata": {},
   "outputs": [
    {
     "name": "stdout",
     "output_type": "stream",
     "text": [
      "infor_song_data: {\"num_songs\": 1, \"artist_id\": \"ARD7TVE1187B99BFB1\", \"artist_latitude\": null, \"artist_longitude\": null, \"artist_location\": \"California - LA\", \"artist_name\": \"Casual\", \"song_id\": \"SOMZWCG12A8C13C480\", \"title\": \"I Didn't Mean To\", \"duration\": 218.93179, \"year\": 0}\n",
      "infor_log_data: {\"artist\":null,\"auth\":\"Logged In\",\"firstName\":\"Walter\",\"gender\":\"M\",\"itemInSession\":0,\"lastName\":\"Frye\",\"length\":null,\"level\":\"free\",\"location\":\"San Francisco-Oakland-Hayward, CA\",\"method\":\"GET\",\"page\":\"Home\",\"registration\":1540919166796.0,\"sessionId\":38,\"song\":null,\"status\":200,\"ts\":1541105830796,\"userAgent\":\"\\\"Mozilla\\/5.0 (Macintosh; Intel Mac OS X 10_9_4) AppleWebKit\\/537.36 (KHTML, like Gecko) Chrome\\/36.0.1985.143 Safari\\/537.36\\\"\",\"userId\":\"39\"}\n",
      "{\"artist\":null,\"auth\":\"Logged In\",\"firstName\":\"Kaylee\",\"gender\":\"F\",\"itemInSession\":0,\"lastName\":\"Summers\",\"length\":null,\"level\":\"free\",\"location\":\"Phoenix-Mesa-Scottsdale, AZ\",\"method\":\"GET\",\"page\":\"Home\",\"registration\":1540344794796.0,\"sessionId\":139,\"song\":null,\"status\":200,\"ts\":1541106106796,\"userAgent\":\"\\\"Mozilla\\/5.0 (Windows NT 6.1; WOW64) AppleWebKit\\/537.36 (KHTML, like Gecko) Chrome\\/35.0.1916.153 Safari\\/537.36\\\"\",\"userId\":\"8\"}\n",
      "{\"artist\":\"Des'ree\",\"auth\":\"Logged In\",\"firstName\":\"Kaylee\",\"gender\":\"F\",\"itemInSession\":1,\"lastName\":\"Summers\",\"length\":246.30812,\"level\":\"free\",\"location\":\"Phoenix-Mesa-Scottsdale, AZ\",\"method\":\"PUT\",\"page\":\"NextSong\",\"registration\":1540344794796.0,\"sessionId\":139,\"song\":\"You Gotta Be\",\"status\":200,\"ts\":1541106106796,\"userAgent\":\"\\\"Mozilla\\/5.0 (Windows NT 6.1; WOW64) AppleWebKit\\/537.36 (KHTML, like Gecko) Chrome\\/35.0.1916.153 Safari\\/537.36\\\"\",\"userId\":\"8\"}\n",
      "{\"artist\":null,\"auth\":\"Logged In\",\"firstName\":\"Kaylee\",\"gender\":\"F\",\"itemInSession\":2,\"lastName\":\"Summers\",\"length\":null,\"level\":\"free\",\"location\":\"Phoenix-Mesa-Scottsdale, AZ\",\"method\":\"GET\",\"page\":\"Upgrade\",\"registration\":1540344794796.0,\"sessionId\":139,\"song\":null,\"status\":200,\"ts\":1541106132796,\"userAgent\":\"\\\"Mozilla\\/5.0 (Windows NT 6.1; WOW64) AppleWebKit\\/537.36 (KHTML, like Gecko) Chrome\\/35.0.1916.153 Safari\\/537.36\\\"\",\"userId\":\"8\"}\n",
      "{\"artist\":\"Mr Oizo\",\"auth\":\"Logged In\",\"firstName\":\"Kaylee\",\"gender\":\"F\",\"itemInSession\":3,\"lastName\":\"Summers\",\"length\":144.03873,\"level\":\"free\",\"location\":\"Phoenix-Mesa-Scottsdale, AZ\",\"method\":\"PUT\",\"page\":\"NextSong\",\"registration\":1540344794796.0,\"sessionId\":139,\"song\":\"Flat 55\",\"status\":200,\"ts\":1541106352796,\"userAgent\":\"\\\"Mozilla\\/5.0 (Windows NT 6.1; WOW64) AppleWebKit\\/537.36 (KHTML, like Gecko) Chrome\\/35.0.1916.153 Safari\\/537.36\\\"\",\"userId\":\"8\"}\n",
      "{\"artist\":\"Tamba Trio\",\"auth\":\"Logged In\",\"firstName\":\"Kaylee\",\"gender\":\"F\",\"itemInSession\":4,\"lastName\":\"Summers\",\"length\":177.18812,\"level\":\"free\",\"location\":\"Phoenix-Mesa-Scottsdale, AZ\",\"method\":\"PUT\",\"page\":\"NextSong\",\"registration\":1540344794796.0,\"sessionId\":139,\"song\":\"Quem Quiser Encontrar O Amor\",\"status\":200,\"ts\":1541106496796,\"userAgent\":\"\\\"Mozilla\\/5.0 (Windows NT 6.1; WOW64) AppleWebKit\\/537.36 (KHTML, like Gecko) Chrome\\/35.0.1916.153 Safari\\/537.36\\\"\",\"userId\":\"8\"}\n",
      "{\"artist\":\"The Mars Volta\",\"auth\":\"Logged In\",\"firstName\":\"Kaylee\",\"gender\":\"F\",\"itemInSession\":5,\"lastName\":\"Summers\",\"length\":380.42077,\"level\":\"free\",\"location\":\"Phoenix-Mesa-Scottsdale, AZ\",\"method\":\"PUT\",\"page\":\"NextSong\",\"registration\":1540344794796.0,\"sessionId\":139,\"song\":\"Eriatarka\",\"status\":200,\"ts\":1541106673796,\"userAgent\":\"\\\"Mozilla\\/5.0 (Windows NT 6.1; WOW64) AppleWebKit\\/537.36 (KHTML, like Gecko) Chrome\\/35.0.1916.153 Safari\\/537.36\\\"\",\"userId\":\"8\"}\n",
      "{\"artist\":\"Infected Mushroom\",\"auth\":\"Logged In\",\"firstName\":\"Kaylee\",\"gender\":\"F\",\"itemInSession\":6,\"lastName\":\"Summers\",\"length\":440.2673,\"level\":\"free\",\"location\":\"Phoenix-Mesa-Scottsdale, AZ\",\"method\":\"PUT\",\"page\":\"NextSong\",\"registration\":1540344794796.0,\"sessionId\":139,\"song\":\"Becoming Insane\",\"status\":200,\"ts\":1541107053796,\"userAgent\":\"\\\"Mozilla\\/5.0 (Windows NT 6.1; WOW64) AppleWebKit\\/537.36 (KHTML, like Gecko) Chrome\\/35.0.1916.153 Safari\\/537.36\\\"\",\"userId\":\"8\"}\n",
      "{\"artist\":\"Blue October \\/ Imogen Heap\",\"auth\":\"Logged In\",\"firstName\":\"Kaylee\",\"gender\":\"F\",\"itemInSession\":7,\"lastName\":\"Summers\",\"length\":241.3971,\"level\":\"free\",\"location\":\"Phoenix-Mesa-Scottsdale, AZ\",\"method\":\"PUT\",\"page\":\"NextSong\",\"registration\":1540344794796.0,\"sessionId\":139,\"song\":\"Congratulations\",\"status\":200,\"ts\":1541107493796,\"userAgent\":\"\\\"Mozilla\\/5.0 (Windows NT 6.1; WOW64) AppleWebKit\\/537.36 (KHTML, like Gecko) Chrome\\/35.0.1916.153 Safari\\/537.36\\\"\",\"userId\":\"8\"}\n",
      "{\"artist\":\"Girl Talk\",\"auth\":\"Logged In\",\"firstName\":\"Kaylee\",\"gender\":\"F\",\"itemInSession\":8,\"lastName\":\"Summers\",\"length\":160.15628,\"level\":\"free\",\"location\":\"Phoenix-Mesa-Scottsdale, AZ\",\"method\":\"PUT\",\"page\":\"NextSong\",\"registration\":1540344794796.0,\"sessionId\":139,\"song\":\"Once again\",\"status\":200,\"ts\":1541107734796,\"userAgent\":\"\\\"Mozilla\\/5.0 (Windows NT 6.1; WOW64) AppleWebKit\\/537.36 (KHTML, like Gecko) Chrome\\/35.0.1916.153 Safari\\/537.36\\\"\",\"userId\":\"8\"}\n",
      "{\"artist\":\"Black Eyed Peas\",\"auth\":\"Logged In\",\"firstName\":\"Sylvie\",\"gender\":\"F\",\"itemInSession\":0,\"lastName\":\"Cruz\",\"length\":214.93506,\"level\":\"free\",\"location\":\"Washington-Arlington-Alexandria, DC-VA-MD-WV\",\"method\":\"PUT\",\"page\":\"NextSong\",\"registration\":1540266185796.0,\"sessionId\":9,\"song\":\"Pump It\",\"status\":200,\"ts\":1541108520796,\"userAgent\":\"\\\"Mozilla\\/5.0 (Macintosh; Intel Mac OS X 10_9_4) AppleWebKit\\/537.77.4 (KHTML, like Gecko) Version\\/7.0.5 Safari\\/537.77.4\\\"\",\"userId\":\"10\"}\n",
      "{\"artist\":null,\"auth\":\"Logged In\",\"firstName\":\"Ryan\",\"gender\":\"M\",\"itemInSession\":0,\"lastName\":\"Smith\",\"length\":null,\"level\":\"free\",\"location\":\"San Jose-Sunnyvale-Santa Clara, CA\",\"method\":\"GET\",\"page\":\"Home\",\"registration\":1541016707796.0,\"sessionId\":169,\"song\":null,\"status\":200,\"ts\":1541109015796,\"userAgent\":\"\\\"Mozilla\\/5.0 (X11; Linux x86_64) AppleWebKit\\/537.36 (KHTML, like Gecko) Ubuntu Chromium\\/36.0.1985.125 Chrome\\/36.0.1985.125 Safari\\/537.36\\\"\",\"userId\":\"26\"}\n",
      "{\"artist\":\"Fall Out Boy\",\"auth\":\"Logged In\",\"firstName\":\"Ryan\",\"gender\":\"M\",\"itemInSession\":1,\"lastName\":\"Smith\",\"length\":200.72444,\"level\":\"free\",\"location\":\"San Jose-Sunnyvale-Santa Clara, CA\",\"method\":\"PUT\",\"page\":\"NextSong\",\"registration\":1541016707796.0,\"sessionId\":169,\"song\":\"Nobody Puts Baby In The Corner\",\"status\":200,\"ts\":1541109125796,\"userAgent\":\"\\\"Mozilla\\/5.0 (X11; Linux x86_64) AppleWebKit\\/537.36 (KHTML, like Gecko) Ubuntu Chromium\\/36.0.1985.125 Chrome\\/36.0.1985.125 Safari\\/537.36\\\"\",\"userId\":\"26\"}\n",
      "{\"artist\":\"M.I.A.\",\"auth\":\"Logged In\",\"firstName\":\"Ryan\",\"gender\":\"M\",\"itemInSession\":2,\"lastName\":\"Smith\",\"length\":233.7171,\"level\":\"free\",\"location\":\"San Jose-Sunnyvale-Santa Clara, CA\",\"method\":\"PUT\",\"page\":\"NextSong\",\"registration\":1541016707796.0,\"sessionId\":169,\"song\":\"Mango Pickle Down River (With The Wilcannia Mob)\",\"status\":200,\"ts\":1541109325796,\"userAgent\":\"\\\"Mozilla\\/5.0 (X11; Linux x86_64) AppleWebKit\\/537.36 (KHTML, like Gecko) Ubuntu Chromium\\/36.0.1985.125 Chrome\\/36.0.1985.125 Safari\\/537.36\\\"\",\"userId\":\"26\"}\n",
      "{\"artist\":\"Survivor\",\"auth\":\"Logged In\",\"firstName\":\"Jayden\",\"gender\":\"M\",\"itemInSession\":0,\"lastName\":\"Fox\",\"length\":245.36771,\"level\":\"free\",\"location\":\"New Orleans-Metairie, LA\",\"method\":\"PUT\",\"page\":\"NextSong\",\"registration\":1541033612796.0,\"sessionId\":100,\"song\":\"Eye Of The Tiger\",\"status\":200,\"ts\":1541110994796,\"userAgent\":\"\\\"Mozilla\\/5.0 (Windows NT 6.3; WOW64) AppleWebKit\\/537.36 (KHTML, like Gecko) Chrome\\/36.0.1985.143 Safari\\/537.36\\\"\",\"userId\":\"101\"}\n"
     ]
    }
   ],
   "source": [
    "import boto3\n",
    "\n",
    "def get_data(Bucket,Key):\n",
    "    # Initialize boto3 to use the S3 client.\n",
    "    s3_client = boto3.client('s3')\n",
    "    try:\n",
    "        # Get the file inside the S3 Bucket\n",
    "        s3_response = s3_client.get_object(\n",
    "            Bucket= Bucket,\n",
    "            Key=Key\n",
    "        )\n",
    "        # Get the Body object in the S3 get_object() response\n",
    "        s3_object_body = s3_response.get('Body')\n",
    "\n",
    "        # Read the data in bytes format and convert it to string\n",
    "        message = s3_object_body.read().decode()\n",
    "\n",
    "        # Print the file contents as a string\n",
    "        return message\n",
    "\n",
    "    except s3_client.exceptions.NoSuchBucket as e:\n",
    "        # S3 Bucket does not exist\n",
    "        message = 'The S3 bucket does not exist.'\n",
    "        return message\n",
    "\n",
    "    except s3_client.exceptions.NoSuchKey as e:\n",
    "        # Object does not exist in the S3 Bucket\n",
    "        message = 'The S3 objects does not exist in the S3 bucket.'\n",
    "        return message\n",
    "infor_song_data = get_data('manhlv-test','song_data/A/A/TRAAAAW128F429D538.json')\n",
    "print(f\"infor_song_data: {infor_song_data}\")\n",
    "infor_log_data = get_data('manhlv-test','log_data/2018/11/2018-11-01-events.json')\n",
    "print(f\"infor_log_data: {infor_log_data}\")"
   ]
  },
  {
   "cell_type": "code",
   "execution_count": 6,
   "id": "643dda43",
   "metadata": {},
   "outputs": [],
   "source": []
  },
  {
   "cell_type": "code",
   "execution_count": null,
   "id": "bcc52b28",
   "metadata": {},
   "outputs": [],
   "source": []
  }
 ],
 "metadata": {
  "kernelspec": {
   "display_name": "Python 3 (ipykernel)",
   "language": "python",
   "name": "python3"
  },
  "language_info": {
   "codemirror_mode": {
    "name": "ipython",
    "version": 3
   },
   "file_extension": ".py",
   "mimetype": "text/x-python",
   "name": "python",
   "nbconvert_exporter": "python",
   "pygments_lexer": "ipython3",
   "version": "3.8.10"
  }
 },
 "nbformat": 4,
 "nbformat_minor": 5
}
